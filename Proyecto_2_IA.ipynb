{
  "cells": [
    {
      "attachments": {},
      "cell_type": "markdown",
      "metadata": {
        "id": "fc7FSMfKA7ph"
      },
      "source": [
        "# Proyecto 2:\n",
        "\n",
        "Integrantes:\n",
        "* Ayelen Catacora Juanillo\n",
        "* Dario Toribio López\n",
        "\n",
        "\n",
        "\n"
      ]
    },
    {
      "attachments": {},
      "cell_type": "markdown",
      "metadata": {
        "id": "Vx8yPdGU0VeZ"
      },
      "source": [
        "# Librerías:"
      ]
    },
    {
      "cell_type": "code",
      "execution_count": 63,
      "metadata": {
        "id": "BUETPtZaCwqn"
      },
      "outputs": [],
      "source": [
        "import math\n",
        "from sklearn.decomposition import PCA\n",
        "from sklearn.metrics import silhouette_score, rand_score, adjusted_mutual_info_score\n",
        "import matplotlib.pyplot as plt\n",
        "import pywt\n",
        "import pywt.data\n",
        "from  skimage.io import imread, imshow\n",
        "import numpy as np\n",
        "import pandas as pd\n",
        "import os\n",
        "from sklearn import datasets\n",
        "import random\n",
        "from collections import Counter"
      ]
    },
    {
      "attachments": {},
      "cell_type": "markdown",
      "metadata": {
        "id": "vTm1wo_cCx4K"
      },
      "source": [
        "# Load Data:"
      ]
    },
    {
      "cell_type": "code",
      "execution_count": 8,
      "metadata": {
        "id": "l1Q8uuUGNnNI"
      },
      "outputs": [],
      "source": [
        "def  Get_Feacture(picture, cortes):\n",
        "  LL = picture\n",
        "  for i in range(cortes):\n",
        "     LL, (LH, HL, HH) = pywt.dwt2(LL, 'haar')\n",
        "  return LL.flatten()"
      ]
    },
    {
      "cell_type": "code",
      "execution_count": 74,
      "metadata": {
        "colab": {
          "base_uri": "https://localhost:8080/"
        },
        "id": "Gh9WNvEwAcT6",
        "outputId": "d1985075-2030-4efa-c188-e78cc5923bd5"
      },
      "outputs": [
        {
          "name": "stdout",
          "output_type": "stream",
          "text": [
            "(981, 144)\n"
          ]
        }
      ],
      "source": [
        "carpetas= ['anger', 'surprise', 'happy', 'fear', 'disgust', 'sadness', 'contempt']\n",
        "dataset=[]\n",
        "etiquetas = []\n",
        "rpath='Base/'\n",
        "lab = 1\n",
        "for i in carpetas:\n",
        "  for file in os.listdir(rpath + i):\n",
        "    picture = imread(rpath + i + \"/\" + file)\n",
        "    dataset.append(np.array(Get_Feacture(picture,2)))\n",
        "    etiquetas.append(lab)\n",
        "  lab+=1\n",
        "dataset = np.array(dataset)\n",
        "print(dataset.shape)"
      ]
    },
    {
      "attachments": {},
      "cell_type": "markdown",
      "metadata": {
        "id": "Dm-C3bybWKux"
      },
      "source": [
        "## Reducción de la dimensionalidad"
      ]
    },
    {
      "cell_type": "code",
      "execution_count": 28,
      "metadata": {
        "colab": {
          "base_uri": "https://localhost:8080/",
          "height": 467
        },
        "id": "hchYns-X9zej",
        "outputId": "6998a951-3bb4-4a77-d304-628c72dc3a77"
      },
      "outputs": [
        {
          "data": {
            "text/plain": [
              "Text(0, 0.5, 'cumulative explained variance')"
            ]
          },
          "execution_count": 28,
          "metadata": {},
          "output_type": "execute_result"
        },
        {
          "data": {
            "image/png": "[encoded data removed]",
            "text/plain": [
              "<Figure size 640x480 with 1 Axes>"
            ]
          },
          "metadata": {},
          "output_type": "display_data"
        }
      ],
      "source": [
        "pca = PCA().fit(dataset)\n",
        "plt.plot(np.cumsum(pca.explained_variance_ratio_))\n",
        "plt.xlabel('number of components')\n",
        "plt.ylabel('cumulative explained variance')"
      ]
    },
    {
      "attachments": {},
      "cell_type": "markdown",
      "metadata": {
        "id": "Co7abDyvWbPS"
      },
      "source": [
        "Para este caso tenemos que el codo de la gráfica se encuentra alrededor del valor 34 de componentes, por lo que reduciremos la dimensión de los vectores característicos a este."
      ]
    },
    {
      "cell_type": "code",
      "execution_count": 27,
      "metadata": {
        "colab": {
          "base_uri": "https://localhost:8080/"
        },
        "id": "bFjvFboEWPCD",
        "outputId": "c4467c84-4760-47f1-a604-0ad66218be65"
      },
      "outputs": [
        {
          "name": "stdout",
          "output_type": "stream",
          "text": [
            "(981, 34)\n"
          ]
        }
      ],
      "source": [
        "pca = PCA(n_components=34)\n",
        "pca.fit(dataset)\n",
        "data_pca = pca.transform(dataset)\n",
        "print(data_pca.shape)"
      ]
    },
    {
      "attachments": {},
      "cell_type": "markdown",
      "metadata": {
        "id": "vxRPPdcd0yAI"
      },
      "source": [
        "# Algoritmos"
      ]
    },
    {
      "attachments": {},
      "cell_type": "markdown",
      "metadata": {
        "id": "4e78WD_b006A"
      },
      "source": [
        "## K-Means"
      ]
    },
    {
      "cell_type": "code",
      "execution_count": 14,
      "metadata": {
        "id": "cw1kib7ByiTv"
      },
      "outputs": [],
      "source": [
        "def init_centroides(data, k):\n",
        "    indices=np.random.choice(len(data), k, replace=False)\n",
        "    centroides=data[indices]\n",
        "    return centroides"
      ]
    },
    {
      "cell_type": "code",
      "execution_count": 15,
      "metadata": {
        "id": "b3xwzEgB2CZs"
      },
      "outputs": [],
      "source": [
        "def asignar_puntos_centroides(data, centroides):\n",
        "    d=np.sqrt(((data-centroides[:, np.newaxis])**2).sum(2))\n",
        "    clusters=np.argmin(d, axis=0)\n",
        "    return clusters"
      ]
    },
    {
      "cell_type": "code",
      "execution_count": 16,
      "metadata": {
        "id": "HKKolUIZ2BUk"
      },
      "outputs": [],
      "source": [
        "def update_centroides(data, clusters, k):\n",
        "    neew_centroides=np.array([data[clusters==i].mean(axis=0) for i in range(k)])\n",
        "    return neew_centroides"
      ]
    },
    {
      "cell_type": "code",
      "execution_count": 18,
      "metadata": {
        "id": "p6VMW-We2AFt"
      },
      "outputs": [],
      "source": [
        "def kmeans(data, k, max_iteraciones):\n",
        "    centroides=init_centroides(data, k)\n",
        "    iteracion=0\n",
        "    while iteracion<max_iteraciones:\n",
        "        clusters=asignar_puntos_centroides(data, centroides)\n",
        "        new_centroides=update_centroides(data, clusters, k)\n",
        "        if np.all(centroides==new_centroides):\n",
        "            break\n",
        "        centroides=new_centroides\n",
        "        iteracion+=1\n",
        "    return clusters,centroides"
      ]
    },
    {
      "attachments": {},
      "cell_type": "markdown",
      "metadata": {
        "id": "vl-pxf4e1Ci8"
      },
      "source": [
        "## DBSCAN"
      ]
    },
    {
      "cell_type": "code",
      "execution_count": 55,
      "metadata": {
        "id": "sngvsIxG1G8e"
      },
      "outputs": [],
      "source": [
        "def distancia(a, b):\n",
        "    d=0\n",
        "    for i in range(len(a)):\n",
        "        d+=(a[i] - b[i]) ** 2\n",
        "    return math.sqrt(d)"
      ]
    },
    {
      "cell_type": "code",
      "execution_count": 56,
      "metadata": {
        "id": "MKtuMBgw4bfd"
      },
      "outputs": [],
      "source": [
        "def obtener_vecinos(data, point_index, epsilon):\n",
        "    vecinos=[]\n",
        "    for i in range(len(data)):\n",
        "        if distancia(data[point_index], data[i])<=epsilon:\n",
        "            vecinos.append(i)\n",
        "    return vecinos"
      ]
    },
    {
      "cell_type": "code",
      "execution_count": 57,
      "metadata": {
        "id": "K0aRuBC64gtX"
      },
      "outputs": [],
      "source": [
        "def expand_clusters(data, etiquetas, point_index, vecinos, cluster_id, epsilon, min_samples):\n",
        "    etiquetas[point_index] = cluster_id\n",
        "    i = 0\n",
        "    while i < len(vecinos):\n",
        "        current_point_index = vecinos[i]\n",
        "        if etiquetas[current_point_index] == -1:\n",
        "            etiquetas[current_point_index] = cluster_id\n",
        "        elif etiquetas[current_point_index] == 0:\n",
        "            etiquetas[current_point_index] = cluster_id\n",
        "            current_point_neighbors = obtener_vecinos(data, current_point_index, epsilon)\n",
        "            if len(current_point_neighbors) >= min_samples:\n",
        "                vecinos += current_point_neighbors\n",
        "        i += 1"
      ]
    },
    {
      "cell_type": "code",
      "execution_count": 58,
      "metadata": {
        "id": "r7R9NXzj4kk6"
      },
      "outputs": [],
      "source": [
        "def DBSCAN(data, epsilon, minimo_vecinos): \n",
        "    num_points = len(data)\n",
        "    etiquetas = [0] * num_points\n",
        "    cluster_id = 0\n",
        "\n",
        "    for point_index in range(num_points):\n",
        "        if etiquetas[point_index] != 0:\n",
        "            continue\n",
        "        vecinos = obtener_vecinos(data, point_index, epsilon)\n",
        "        if len(vecinos) < minimo_vecinos:\n",
        "            etiquetas[point_index] = -1  #ruido\n",
        "        else:\n",
        "            cluster_id += 1\n",
        "            expand_clusters(data, etiquetas, point_index, vecinos, cluster_id, epsilon, minimo_vecinos)\n",
        "\n",
        "    return etiquetas"
      ]
    },
    {
      "attachments": {},
      "cell_type": "markdown",
      "metadata": {},
      "source": [
        "## GMM"
      ]
    },
    {
      "cell_type": "code",
      "execution_count": 64,
      "metadata": {},
      "outputs": [],
      "source": [
        "from sklearn.mixture import GaussianMixture"
      ]
    },
    {
      "attachments": {},
      "cell_type": "markdown",
      "metadata": {
        "id": "JME7ZpeN4hKh"
      },
      "source": [
        "# Metricas"
      ]
    },
    {
      "cell_type": "code",
      "execution_count": 72,
      "metadata": {
        "id": "nZIFsFyR6nAF"
      },
      "outputs": [],
      "source": [
        "def metricas(clusters, clusters_pca, labels, dataset, data_pca):\n",
        "    scores = {\n",
        "        \"Normal\": np.array([silhouette_score(dataset, clusters), \n",
        "                            rand_score(labels, clusters),\n",
        "                            adjusted_mutual_info_score(labels, clusters)]),\n",
        "        \"PCA\": np.array([silhouette_score(data_pca, clusters_pca), \n",
        "                            rand_score(labels, clusters_pca),\n",
        "                            adjusted_mutual_info_score(labels, clusters_pca)])\n",
        "    }\n",
        "    return pd.DataFrame.from_dict(scores, orient=\"index\", columns=[\"Silhouette\", \"Rand\", \"Adjust Mutual Information\"])"
      ]
    },
    {
      "attachments": {},
      "cell_type": "markdown",
      "metadata": {
        "id": "jv3Ds4JI8OBX"
      },
      "source": [
        "# Experimentación"
      ]
    },
    {
      "attachments": {},
      "cell_type": "markdown",
      "metadata": {},
      "source": [
        "## K-Means"
      ]
    },
    {
      "cell_type": "code",
      "execution_count": 111,
      "metadata": {
        "id": "2NCEJQPP-cj2"
      },
      "outputs": [],
      "source": [
        "parametros_k = {1000: [], 5000: [], 10000: []}\n",
        "ks = [5, 6, 7, 8, 9]\n",
        "for it in parametros_k:\n",
        "    for k in ks:\n",
        "        clusters, _ = kmeans(dataset, k, it)\n",
        "        temp = []\n",
        "        temp.append(k)\n",
        "        temp.append(clusters)\n",
        "        parametros_k[it].append(temp)"
      ]
    },
    {
      "cell_type": "code",
      "execution_count": 112,
      "metadata": {},
      "outputs": [],
      "source": [
        "parametros_k_pca = {1000: [], 5000: [], 10000: []}\n",
        "ks = [5, 6, 7, 8, 9]\n",
        "for it in parametros_k_pca:\n",
        "    for k in ks:\n",
        "        clusters, _ = kmeans(data_pca, k, it)\n",
        "        temp = []\n",
        "        temp.append(k)\n",
        "        temp.append(clusters)\n",
        "        parametros_k_pca[it].append(temp)"
      ]
    },
    {
      "attachments": {},
      "cell_type": "markdown",
      "metadata": {},
      "source": [
        "## DBSCAN"
      ]
    },
    {
      "cell_type": "code",
      "execution_count": 119,
      "metadata": {
        "id": "NEiiY_lfFaV5"
      },
      "outputs": [],
      "source": [
        "epsilons = {1200: [],  1250: [], 1300: [], 1350: [], 1400: []}\n",
        "vecinos = [2, 4, 6, 8, 10]\n",
        "for e in epsilons:\n",
        "  for v in vecinos:\n",
        "    clusters = DBSCAN(dataset, e, v)\n",
        "    temp = []\n",
        "    temp.append(v)\n",
        "    temp.append(clusters)\n",
        "    epsilons[e].append(temp)"
      ]
    },
    {
      "cell_type": "code",
      "execution_count": 121,
      "metadata": {},
      "outputs": [],
      "source": [
        "epsilons_pca = {1200: [],  1250: [], 1300: [], 1350: [], 1400: []}\n",
        "vecinos = [2, 4, 6, 8, 10]\n",
        "for e in epsilons_pca:\n",
        "  for v in vecinos:\n",
        "    clusters = DBSCAN(data_pca, e, v)\n",
        "    temp = []\n",
        "    temp.append(v)\n",
        "    temp.append(clusters)\n",
        "    epsilons_pca[e].append(temp)"
      ]
    },
    {
      "attachments": {},
      "cell_type": "markdown",
      "metadata": {},
      "source": [
        "## GMM"
      ]
    },
    {
      "cell_type": "code",
      "execution_count": 96,
      "metadata": {},
      "outputs": [],
      "source": [
        "components = {5: [], 6: [], 7: [], 8: [], 9: []}\n",
        "for c in components:\n",
        "    gmm = GaussianMixture(n_components=c)\n",
        "    gmm.fit(dataset)\n",
        "    components[c] = gmm.predict(dataset)"
      ]
    },
    {
      "cell_type": "code",
      "execution_count": 95,
      "metadata": {},
      "outputs": [],
      "source": [
        "components_pca = {5: [], 6: [], 7: [], 8: [], 9: []}\n",
        "for c in components_pca:\n",
        "    gmm = GaussianMixture(n_components=c)\n",
        "    gmm.fit(data_pca)\n",
        "    components_pca[c] = gmm.predict(data_pca)"
      ]
    },
    {
      "attachments": {},
      "cell_type": "markdown",
      "metadata": {},
      "source": [
        "# Resultados"
      ]
    },
    {
      "attachments": {},
      "cell_type": "markdown",
      "metadata": {},
      "source": [
        "## K-Means"
      ]
    },
    {
      "cell_type": "code",
      "execution_count": 122,
      "metadata": {},
      "outputs": [
        {
          "name": "stdout",
          "output_type": "stream",
          "text": [
            "Iteraciones:  1000\n",
            "k:  5\n",
            "        Silhouette      Rand  Adjust Mutual Information\n",
            "Normal    0.140707  0.671037                   0.028945\n",
            "PCA       0.123707  0.686817                   0.036995\n",
            "k:  6\n",
            "        Silhouette      Rand  Adjust Mutual Information\n",
            "Normal    0.148257  0.707493                   0.047210\n",
            "PCA       0.149064  0.708392                   0.033537\n",
            "k:  7\n",
            "        Silhouette      Rand  Adjust Mutual Information\n",
            "Normal    0.116673  0.734575                   0.066626\n",
            "PCA       0.153848  0.727677                   0.033766\n",
            "k:  8\n",
            "        Silhouette      Rand  Adjust Mutual Information\n",
            "Normal    0.138992  0.718561                   0.039210\n",
            "PCA       0.140506  0.742148                   0.057013\n",
            "k:  9\n",
            "        Silhouette      Rand  Adjust Mutual Information\n",
            "Normal    0.161059  0.742462                   0.058950\n",
            "PCA       0.122184  0.752244                   0.045583\n",
            "Iteraciones:  5000\n",
            "k:  5\n",
            "        Silhouette      Rand  Adjust Mutual Information\n",
            "Normal    0.140221  0.686598                   0.022461\n",
            "PCA       0.159389  0.674682                   0.040247\n",
            "k:  6\n",
            "        Silhouette      Rand  Adjust Mutual Information\n",
            "Normal    0.145537  0.716493                   0.051910\n",
            "PCA       0.160405  0.712771                   0.057914\n",
            "k:  7\n",
            "        Silhouette      Rand  Adjust Mutual Information\n",
            "Normal    0.153961  0.721733                   0.055191\n",
            "PCA       0.163639  0.722565                   0.041672\n",
            "k:  8\n",
            "        Silhouette      Rand  Adjust Mutual Information\n",
            "Normal    0.143479  0.741318                   0.061422\n",
            "PCA       0.177348  0.735218                   0.055462\n",
            "k:  9\n",
            "        Silhouette      Rand  Adjust Mutual Information\n",
            "Normal    0.137422  0.736602                   0.057134\n",
            "PCA       0.161611  0.747644                   0.060963\n",
            "Iteraciones:  10000\n",
            "k:  5\n",
            "        Silhouette      Rand  Adjust Mutual Information\n",
            "Normal    0.139769  0.656766                   0.017394\n",
            "PCA       0.155034  0.696592                   0.039432\n",
            "k:  6\n",
            "        Silhouette      Rand  Adjust Mutual Information\n",
            "Normal    0.143951  0.709203                   0.042061\n",
            "PCA       0.157615  0.699555                   0.038768\n",
            "k:  7\n",
            "        Silhouette      Rand  Adjust Mutual Information\n",
            "Normal    0.143879  0.717283                   0.055105\n",
            "PCA       0.166582  0.725979                   0.062195\n",
            "k:  8\n",
            "        Silhouette      Rand  Adjust Mutual Information\n",
            "Normal    0.158232  0.730327                   0.052287\n",
            "PCA       0.133730  0.726098                   0.040416\n",
            "k:  9\n",
            "        Silhouette      Rand  Adjust Mutual Information\n",
            "Normal    0.152425  0.749496                   0.060208\n",
            "PCA       0.164514  0.745884                   0.060918\n"
          ]
        }
      ],
      "source": [
        "for parametro in parametros_k:\n",
        "    print(\"Iteraciones: \", parametro)\n",
        "    for i in range(len(parametros_k[parametro])):\n",
        "        print(\"k: \", parametros_k[parametro][i][0])\n",
        "        r = metricas(parametros_k[parametro][i][1], parametros_k_pca[parametro][i][1], etiquetas, dataset, data_pca)\n",
        "        print(r)"
      ]
    },
    {
      "attachments": {},
      "cell_type": "markdown",
      "metadata": {},
      "source": [
        "## DBSCAN"
      ]
    },
    {
      "cell_type": "code",
      "execution_count": 123,
      "metadata": {},
      "outputs": [
        {
          "name": "stdout",
          "output_type": "stream",
          "text": [
            "Epsilon:  1200\n",
            "vecinos:  2\n",
            "        Silhouette      Rand  Adjust Mutual Information\n",
            "Normal    0.335611  0.789103                   0.148871\n",
            "PCA       0.102398  0.671054                   0.120010\n",
            "vecinos:  4\n",
            "        Silhouette      Rand  Adjust Mutual Information\n",
            "Normal    0.130595  0.771073                   0.113715\n",
            "PCA      -0.012347  0.666373                   0.102006\n",
            "vecinos:  6\n",
            "        Silhouette      Rand  Adjust Mutual Information\n",
            "Normal    0.106450  0.762914                   0.105453\n",
            "PCA      -0.020847  0.663902                   0.097203\n",
            "vecinos:  8\n",
            "        Silhouette      Rand  Adjust Mutual Information\n",
            "Normal   -0.022353  0.691616                   0.075165\n",
            "PCA      -0.068087  0.638524                   0.061224\n",
            "vecinos:  10\n",
            "        Silhouette      Rand  Adjust Mutual Information\n",
            "Normal   -0.099251  0.608729                   0.063649\n",
            "PCA      -0.065397  0.637891                   0.054220\n",
            "Epsilon:  1250\n",
            "vecinos:  2\n",
            "        Silhouette      Rand  Adjust Mutual Information\n",
            "Normal    0.240966  0.758397                   0.138469\n",
            "PCA       0.075059  0.641490                   0.115099\n",
            "vecinos:  4\n",
            "        Silhouette      Rand  Adjust Mutual Information\n",
            "Normal    0.075663  0.746752                   0.112350\n",
            "PCA      -0.018161  0.638214                   0.098453\n",
            "vecinos:  6\n",
            "        Silhouette      Rand  Adjust Mutual Information\n",
            "Normal    0.062224  0.743001                   0.106809\n",
            "PCA      -0.027140  0.637427                   0.096692\n",
            "vecinos:  8\n",
            "        Silhouette      Rand  Adjust Mutual Information\n",
            "Normal   -0.017388  0.703354                   0.074227\n",
            "PCA      -0.053846  0.627800                   0.062729\n",
            "vecinos:  10\n",
            "        Silhouette      Rand  Adjust Mutual Information\n",
            "Normal   -0.077382  0.649190                   0.068943\n",
            "PCA      -0.068673  0.623866                   0.057267\n",
            "Epsilon:  1300\n",
            "vecinos:  2\n",
            "        Silhouette      Rand  Adjust Mutual Information\n",
            "Normal    0.132973  0.691781                   0.124102\n",
            "PCA       0.033210  0.567422                   0.100096\n",
            "vecinos:  4\n",
            "        Silhouette      Rand  Adjust Mutual Information\n",
            "Normal   -0.000936  0.681913                   0.095131\n",
            "PCA      -0.033259  0.564838                   0.081551\n",
            "vecinos:  6\n",
            "        Silhouette      Rand  Adjust Mutual Information\n",
            "Normal   -0.001952  0.683811                   0.095497\n",
            "PCA      -0.033574  0.566298                   0.082874\n",
            "vecinos:  8\n",
            "        Silhouette      Rand  Adjust Mutual Information\n",
            "Normal   -0.080842  0.654711                   0.063431\n",
            "PCA      -0.064582  0.571006                   0.055082\n",
            "vecinos:  10\n",
            "        Silhouette      Rand  Adjust Mutual Information\n",
            "Normal   -0.081653  0.629830                   0.055003\n",
            "PCA      -0.077954  0.564104                   0.044424\n",
            "Epsilon:  1350\n",
            "vecinos:  2\n",
            "        Silhouette      Rand  Adjust Mutual Information\n",
            "Normal    0.098830  0.645179                   0.108949\n",
            "PCA       0.002599  0.518161                   0.096765\n",
            "vecinos:  4\n",
            "        Silhouette      Rand  Adjust Mutual Information\n",
            "Normal   -0.018192  0.637952                   0.081212\n",
            "PCA      -0.038675  0.515521                   0.074776\n",
            "vecinos:  6\n",
            "        Silhouette      Rand  Adjust Mutual Information\n",
            "Normal   -0.021306  0.637615                   0.081829\n",
            "PCA      -0.031807  0.527186                   0.075754\n",
            "vecinos:  8\n",
            "        Silhouette      Rand  Adjust Mutual Information\n",
            "Normal   -0.062547  0.618773                   0.050244\n",
            "PCA      -0.064580  0.525002                   0.053960\n",
            "vecinos:  10\n",
            "        Silhouette      Rand  Adjust Mutual Information\n",
            "Normal   -0.072070  0.606100                   0.047721\n",
            "PCA      -0.025192  0.515773                   0.043390\n",
            "Epsilon:  1400\n",
            "vecinos:  2\n",
            "        Silhouette      Rand  Adjust Mutual Information\n",
            "Normal    0.061583  0.598259                   0.105738\n",
            "PCA      -0.041086  0.450084                   0.083569\n",
            "vecinos:  4\n",
            "        Silhouette      Rand  Adjust Mutual Information\n",
            "Normal   -0.022466  0.594851                   0.085963\n",
            "PCA      -0.042412  0.448193                   0.061834\n",
            "vecinos:  6\n",
            "        Silhouette      Rand  Adjust Mutual Information\n",
            "Normal   -0.035345  0.595384                   0.080612\n",
            "PCA      -0.042675  0.453221                   0.063355\n",
            "vecinos:  8\n",
            "        Silhouette      Rand  Adjust Mutual Information\n",
            "Normal   -0.066107  0.581859                   0.050313\n",
            "PCA      -0.032482  0.467029                   0.049370\n",
            "vecinos:  10\n",
            "        Silhouette      Rand  Adjust Mutual Information\n",
            "Normal   -0.073152  0.568710                   0.042793\n",
            "PCA      -0.033003  0.478739                   0.045816\n"
          ]
        }
      ],
      "source": [
        "for ep in epsilons:\n",
        "    print(\"Epsilon: \", ep)\n",
        "    for i in range(len(epsilons[ep])):\n",
        "        print(\"vecinos: \", epsilons[ep][i][0])\n",
        "        r = metricas(epsilons[ep][i][1], epsilons_pca[ep][i][1], etiquetas, dataset, data_pca)\n",
        "        print(r)"
      ]
    },
    {
      "attachments": {},
      "cell_type": "markdown",
      "metadata": {},
      "source": [
        "## GMM"
      ]
    },
    {
      "cell_type": "code",
      "execution_count": 118,
      "metadata": {},
      "outputs": [
        {
          "name": "stdout",
          "output_type": "stream",
          "text": [
            "5 componentes\n",
            "        Silhouette      Rand  Adjust Mutual Information\n",
            "Normal    0.145902  0.680120                   0.043470\n",
            "PCA       0.160512  0.679733                   0.040081\n",
            "6 componentes\n",
            "        Silhouette      Rand  Adjust Mutual Information\n",
            "Normal    0.121120  0.718066                   0.039372\n",
            "PCA       0.152248  0.712844                   0.081593\n",
            "7 componentes\n",
            "        Silhouette      Rand  Adjust Mutual Information\n",
            "Normal    0.149814  0.724735                   0.045786\n",
            "PCA       0.168502  0.729058                   0.060349\n",
            "8 componentes\n",
            "        Silhouette      Rand  Adjust Mutual Information\n",
            "Normal    0.145369  0.727458                   0.046670\n",
            "PCA       0.156655  0.744719                   0.065162\n",
            "9 componentes\n",
            "        Silhouette      Rand  Adjust Mutual Information\n",
            "Normal    0.143807  0.747238                   0.056628\n",
            "PCA       0.154207  0.752722                   0.059581\n"
          ]
        }
      ],
      "source": [
        "for c in components:\n",
        "    r = metricas(components[c], components_pca[c], etiquetas, dataset, data_pca)\n",
        "    print(c, \"componentes\")\n",
        "    print(r)"
      ]
    }
  ],
  "metadata": {
    "colab": {
      "provenance": []
    },
    "kernelspec": {
      "display_name": "Python 3",
      "name": "python3"
    },
    "language_info": {
      "codemirror_mode": {
        "name": "ipython",
        "version": 3
      },
      "file_extension": ".py",
      "mimetype": "text/x-python",
      "name": "python",
      "nbconvert_exporter": "python",
      "pygments_lexer": "ipython3",
      "version": "3.10.6"
    }
  },
  "nbformat": 4,
  "nbformat_minor": 0
}
